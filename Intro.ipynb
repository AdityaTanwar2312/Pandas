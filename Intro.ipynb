{
 "cells": [
  {
   "cell_type": "code",
   "execution_count": null,
   "id": "19b1b309-3c74-434d-9024-b3b7a9850624",
   "metadata": {},
   "outputs": [],
   "source": [
    "import pandas as pd"
   ]
  },
  {
   "cell_type": "code",
   "execution_count": null,
   "id": "27c7748d-a028-43c9-a8a7-d7261010aa36",
   "metadata": {},
   "outputs": [],
   "source": [
    "#To change custom named missing values to NaN value we can do that while impporting our CSV file\n",
    "\n",
    "na_vals = ['NA', 'Missing']\n",
    "\n",
    "df = pd.read_csv('data/survey_results_public.csv', na_values=na_vals)"
   ]
  },
  {
   "cell_type": "code",
   "execution_count": null,
   "id": "e0c14d2b-ac9b-4b41-b8bf-bed010eee3aa",
   "metadata": {
    "scrolled": true
   },
   "outputs": [],
   "source": [
    "df"
   ]
  },
  {
   "cell_type": "code",
   "execution_count": null,
   "id": "321ae36b-1054-4d50-9d07-b26a1d870ee7",
   "metadata": {},
   "outputs": [],
   "source": [
    "df.shape"
   ]
  },
  {
   "cell_type": "code",
   "execution_count": null,
   "id": "806cd91e-50d6-4de6-af58-b1e9e9a2204c",
   "metadata": {},
   "outputs": [],
   "source": [
    "# Gives information about the data in each column\n",
    "df.info()"
   ]
  },
  {
   "cell_type": "code",
   "execution_count": null,
   "id": "35e91282-aab7-4118-b2ce-2467eb4c444c",
   "metadata": {},
   "outputs": [],
   "source": [
    "#If you want to display more rows and columns the set_option can be used\n",
    "\n",
    "pd.set_option('display.max_columns', 85)\n",
    "pd.set_option('display.max_rows', 85)"
   ]
  },
  {
   "cell_type": "code",
   "execution_count": null,
   "id": "d2830013-30c9-47e6-a207-3388380bd42e",
   "metadata": {},
   "outputs": [],
   "source": [
    "schema_df=pd.read_csv('data/survey_results_schema.csv')"
   ]
  },
  {
   "cell_type": "code",
   "execution_count": null,
   "id": "f31c0e57-848d-4404-97a3-8697b81c8a1e",
   "metadata": {},
   "outputs": [],
   "source": [
    "schema_df"
   ]
  },
  {
   "cell_type": "code",
   "execution_count": null,
   "id": "c2987bb1-7050-4bfc-9ddc-3a1a105c01b2",
   "metadata": {},
   "outputs": [],
   "source": [
    "#Comparisons can be made on numeric values\n",
    "salary=(df['CompTotal']>70000)\n",
    "df[salary]"
   ]
  },
  {
   "cell_type": "code",
   "execution_count": null,
   "id": "973e6458-d195-4d3f-a75a-e1879ee10157",
   "metadata": {},
   "outputs": [],
   "source": [
    "#A column with unique value for each row can be made index column\n",
    "df.set_index('Respondent')"
   ]
  },
  {
   "cell_type": "code",
   "execution_count": null,
   "id": "be335d1e-325a-45ea-a512-abdfecdd052f",
   "metadata": {},
   "outputs": [],
   "source": [
    "#To check for string isin operator is used '==' is not supported\n",
    "countries=['India','Spain','Canada']\n",
    "region=(df['Country'].isin(countries))"
   ]
  },
  {
   "cell_type": "code",
   "execution_count": null,
   "id": "8049d374-7c6b-4cb7-a2f6-af26a45f297a",
   "metadata": {},
   "outputs": [],
   "source": [
    "df.loc[region, ['Country', 'CompTotal']]"
   ]
  },
  {
   "cell_type": "code",
   "execution_count": null,
   "id": "fe7446ce-d14f-4d0b-b19a-bfe23ad38da9",
   "metadata": {},
   "outputs": [],
   "source": [
    "#Dictionaries can be converted into dataframs using DataFrame method\n",
    "\n",
    "people={\n",
    "    'first':['keel', 'Leo'],\n",
    "    'last':['Doppo', 'DiCaprio'],\n",
    "    'email':['keel@gmail.com','leo@gmail.com']\n",
    "}\n",
    "df2=pd.DataFrame(people)\n",
    "df2"
   ]
  },
  {
   "cell_type": "code",
   "execution_count": null,
   "id": "8a0321d4-aedb-4311-9328-1ba488df06ed",
   "metadata": {},
   "outputs": [],
   "source": [
    "people={\n",
    "    'first':['Umemiya', 'Kira'],\n",
    "    'last':['Hime', 'ajsd'],\n",
    "    'email':['hime@gmail.com','kira@gmail.com']\n",
    "}\n",
    "df3=pd.DataFrame(people)\n",
    "df3"
   ]
  },
  {
   "cell_type": "code",
   "execution_count": null,
   "id": "2041bc2a-a6fc-44af-9b2a-3d6f3088b138",
   "metadata": {},
   "outputs": [],
   "source": [
    "#Concatenation of data in two columns\n",
    "\n",
    "df2['full_name']=df2['first']+' '+df2['last']\n",
    "df2"
   ]
  },
  {
   "cell_type": "code",
   "execution_count": null,
   "id": "16e88b9b-e691-44cf-9a13-0815d906a3c2",
   "metadata": {},
   "outputs": [],
   "source": [
    "#Deletion of columns from a dataframe\n",
    "df2.drop(columns=['first', 'last'], inplace=True)"
   ]
  },
  {
   "cell_type": "code",
   "execution_count": null,
   "id": "52bed177-1553-4c90-8449-c4a3b6a2abdb",
   "metadata": {},
   "outputs": [],
   "source": [
    "#Spliting data of single column into multiple columns\n",
    "df2[['first','last']]=df2['full_name'].str.split(' ', expand=True)"
   ]
  },
  {
   "cell_type": "code",
   "execution_count": null,
   "id": "ae5f6af7-55ae-4558-95f1-beff5b1b3529",
   "metadata": {},
   "outputs": [],
   "source": [
    "df2"
   ]
  },
  {
   "cell_type": "code",
   "execution_count": null,
   "id": "2ed893bf-8b9e-429a-acaa-d43aff37601d",
   "metadata": {},
   "outputs": [],
   "source": [
    "#Adding row to a dataframe\n",
    "\n",
    "df2._append({'first':'Adi'}, ignore_index=True)"
   ]
  },
  {
   "cell_type": "code",
   "execution_count": null,
   "id": "57e38d23-bbe5-481c-be4e-a8fa3908af30",
   "metadata": {},
   "outputs": [],
   "source": [
    "#Adding dataframe to a dataframe\n",
    "#To permanently make changes we need to follow \n",
    "#the below give method as inplace argument cannot be used\n",
    "\n",
    "df2 = df2._append(df3, ignore_index=True, sort=True)\n",
    "df2"
   ]
  },
  {
   "cell_type": "code",
   "execution_count": null,
   "id": "30970095-ed1f-4e70-a81a-7db999c6973b",
   "metadata": {},
   "outputs": [],
   "source": [
    "#Deletion of row from a column\n",
    "\n",
    "df2.drop(index=df2[df2['first']=='Adi'].index)"
   ]
  },
  {
   "cell_type": "code",
   "execution_count": null,
   "id": "d90abdd8-2972-4d00-a113-61ef65eb7645",
   "metadata": {},
   "outputs": [],
   "source": [
    "# Sorting values in a dataframe\n",
    "\n",
    "df2.sort_values(by='last')"
   ]
  },
  {
   "cell_type": "code",
   "execution_count": null,
   "id": "74f97202-b558-44c0-ada8-616a8c836b90",
   "metadata": {},
   "outputs": [],
   "source": [
    "#For descending order\n",
    "\n",
    "df2.sort_values(by='last', ascending=False)"
   ]
  },
  {
   "cell_type": "code",
   "execution_count": null,
   "id": "ea152b62-06f5-4667-a7d4-5e267e554347",
   "metadata": {},
   "outputs": [],
   "source": [
    "#Sorting will be carried out in the given order of the columns\n",
    "\n",
    "df2.sort_values(by=['last', 'first'], ascending=False)"
   ]
  },
  {
   "cell_type": "code",
   "execution_count": null,
   "id": "2b673f10-d728-4110-9f9f-9cefa15f3094",
   "metadata": {},
   "outputs": [],
   "source": [
    "#Here the 'last' column will be sorted in descending order and 'first' column will be sorted in ascending order\n",
    "\n",
    "df2.sort_values(by=['last', 'first'], ascending=[False, True])"
   ]
  },
  {
   "cell_type": "code",
   "execution_count": null,
   "id": "bb61fd43-0392-4b67-a82c-a33ecdd8b973",
   "metadata": {},
   "outputs": [],
   "source": [
    "df2['full_name']=df2['first'] + df2['last']\n",
    "df2"
   ]
  },
  {
   "cell_type": "code",
   "execution_count": null,
   "id": "b8677679-bde6-4ea8-acad-d631f1b1cb3e",
   "metadata": {},
   "outputs": [],
   "source": [
    "df2.sort_values(by=['last', 'first'], ascending=[False, True])"
   ]
  },
  {
   "cell_type": "code",
   "execution_count": null,
   "id": "a5d2141b-648d-4b7e-969a-cb2eb5131f78",
   "metadata": {},
   "outputs": [],
   "source": [
    "# Sorting by using index\n",
    "\n",
    "df2.sort_index()"
   ]
  },
  {
   "cell_type": "code",
   "execution_count": null,
   "id": "b4c8b432-4d75-4c6c-93d7-649fcd7c74c4",
   "metadata": {},
   "outputs": [],
   "source": [
    "#Sorting a single column\n",
    "\n",
    "df2['first'].sort_values()"
   ]
  },
  {
   "cell_type": "code",
   "execution_count": null,
   "id": "945ae18a-6376-44cf-b3b4-d2274a1fd33b",
   "metadata": {},
   "outputs": [],
   "source": [
    "#Lets see results on the bigger data set\n",
    "\n",
    "df.sort_values(by=['Country', 'CompTotal'], ascending=[True, False], inplace=True)\n",
    "df[['Country', 'CompTotal']].head(20)"
   ]
  },
  {
   "cell_type": "code",
   "execution_count": null,
   "id": "6629a534-3542-4628-bbf3-09e5d85fd383",
   "metadata": {},
   "outputs": [],
   "source": [
    "#To extract largest values out of a column used nlargest method\n",
    "\n",
    "df['CompTotal'].nlargest(10)  #Will return 10 largest values from the specefied column"
   ]
  },
  {
   "cell_type": "code",
   "execution_count": null,
   "id": "f453f793-cc33-4999-ba03-2047cfd1ed72",
   "metadata": {},
   "outputs": [],
   "source": [
    "df.nlargest(10, 'ConvertedComp')"
   ]
  },
  {
   "cell_type": "code",
   "execution_count": null,
   "id": "48601d40-d61c-4120-8ee7-47af8feb4703",
   "metadata": {},
   "outputs": [],
   "source": [
    "#Similarly to find the smallest value use nsmallest method\n",
    "\n",
    "df.nsmallest(10, 'ConvertedComp')"
   ]
  },
  {
   "cell_type": "code",
   "execution_count": null,
   "id": "5941d3d8-761f-475a-a151-6a02fcc630cf",
   "metadata": {},
   "outputs": [],
   "source": [
    "# To find mean, median and mode of the data\n",
    "\n",
    "df['ConvertedComp'].mean()"
   ]
  },
  {
   "cell_type": "code",
   "execution_count": null,
   "id": "6c5a7119-959d-47ef-a689-4f4a4f35592c",
   "metadata": {},
   "outputs": [],
   "source": [
    "df['ConvertedComp'].median()"
   ]
  },
  {
   "cell_type": "code",
   "execution_count": null,
   "id": "3593170f-cd14-4177-9653-cdbeefa9d749",
   "metadata": {},
   "outputs": [],
   "source": [
    "df['ConvertedComp'].mode()"
   ]
  },
  {
   "cell_type": "code",
   "execution_count": null,
   "id": "9f551c49-635a-481a-adce-407678b1790d",
   "metadata": {},
   "outputs": [],
   "source": [
    "#If we use describe functioon on entire dataset\n",
    "#It will grab the columns that contain nummeric values and\n",
    "#return the value according to the function performed\n",
    "\n",
    "df.describe()"
   ]
  },
  {
   "cell_type": "code",
   "execution_count": null,
   "id": "8298e6bd-a18e-44bf-a337-833629dd6087",
   "metadata": {},
   "outputs": [],
   "source": [
    "# Count function counts the non-empty rows in the guven column\n",
    "\n",
    "df['CompTotal'].count()"
   ]
  },
  {
   "cell_type": "code",
   "execution_count": null,
   "id": "e77df208-dc5e-4332-aaa5-7a47eaa8b2ff",
   "metadata": {},
   "outputs": [],
   "source": [
    "# Value_count function counts how many time each unique value is there in the given column\n",
    "\n",
    "df['Hobbyist'].value_counts()"
   ]
  },
  {
   "cell_type": "code",
   "execution_count": null,
   "id": "91798b75-b497-407e-8068-3e06fc08d470",
   "metadata": {},
   "outputs": [],
   "source": [
    "df[['CompTotal', 'Hobbyist']].value_counts()"
   ]
  },
  {
   "cell_type": "code",
   "execution_count": null,
   "id": "cbc99b34-b8bb-44f5-b7b7-dc6da1ad20c7",
   "metadata": {},
   "outputs": [],
   "source": [
    "df['SocialMedia'].value_counts()"
   ]
  },
  {
   "cell_type": "code",
   "execution_count": null,
   "id": "914dce8f-4a57-42c0-bcbe-10533f7545e6",
   "metadata": {},
   "outputs": [],
   "source": [
    "# We can use noramlize attribute to make them comparable and into form of percentange\n",
    "\n",
    "df['SocialMedia'].value_counts(normalize=True)"
   ]
  },
  {
   "cell_type": "code",
   "execution_count": null,
   "id": "41ead943-49df-449b-a033-4516f61f8e5d",
   "metadata": {},
   "outputs": [],
   "source": [
    "#Group by method is an important method used in data analysis and data science to sort out data\n",
    "#We will see implementation of group by method and how it is useful\n",
    "\n",
    "country_grp = df.groupby(['Country'])"
   ]
  },
  {
   "cell_type": "code",
   "execution_count": null,
   "id": "0dc79068-8fb0-4daf-9789-02e11a5b9547",
   "metadata": {},
   "outputs": [],
   "source": [
    "country_grp.get_group(('India',))"
   ]
  },
  {
   "cell_type": "code",
   "execution_count": null,
   "id": "5cb3be1f-df07-4ed3-800c-22f7cbc2f5af",
   "metadata": {},
   "outputs": [],
   "source": [
    "#I f we apply any filter on the group made using group by method\n",
    "#it will return the value for each respective group within it \n",
    "#Here is an exemple bellow how it will work\n",
    "\n",
    "country_grp['SocialMedia'].value_counts().head(20)"
   ]
  },
  {
   "cell_type": "code",
   "execution_count": null,
   "id": "6bcb9e5e-08e4-4a55-bc86-4b1234da1cc2",
   "metadata": {},
   "outputs": [],
   "source": [
    "#You can run aggregate function on the group made\n",
    "\n",
    "country_grp['CompTotal'].median()"
   ]
  },
  {
   "cell_type": "code",
   "execution_count": null,
   "id": "319f2519-2302-446d-b5ce-c30a4bc0df38",
   "metadata": {},
   "outputs": [],
   "source": [
    "#By using loc method you can get results for specific values you want\n",
    "\n",
    "country_grp['CompTotal'].median().loc['Germany']"
   ]
  },
  {
   "cell_type": "code",
   "execution_count": null,
   "id": "81f1fbb6-8147-404b-bcee-d7d88b45f2d5",
   "metadata": {},
   "outputs": [],
   "source": [
    "# agg function can be used to run multiple aggregate function at the same time\n",
    "\n",
    "country_grp['ConvertedComp'].agg(['median', 'mean'])"
   ]
  },
  {
   "cell_type": "code",
   "execution_count": null,
   "id": "2b310866-6805-4bb8-ab6c-0b882652e04b",
   "metadata": {},
   "outputs": [],
   "source": [
    "#In string methods we have contains function which can be used\n",
    "#to check for the gicen string in the respective columns\n",
    "#in the given example below if we want to know number of people\n",
    "#ust use sum function as sum will assume false=0 and true=1\n",
    "\n",
    "filt = df['Country'] == 'India'\n",
    "df.loc[filt]['LanguageWorkedWith'].str.contains('Python').sum()"
   ]
  },
  {
   "cell_type": "code",
   "execution_count": null,
   "id": "dc292b3c-5185-49fd-9cac-1751d1b7b680",
   "metadata": {},
   "outputs": [],
   "source": [
    "#We cannot use tring functions on a groupby object i.e.\n",
    "#Group made using group by method, we would rather use the apply method\n",
    "\n",
    "country_grp['LanguageWorkedWith'].apply(lambda x: x.str.contains('Python').sum())\n",
    "#Here we get the number of people using python from each country"
   ]
  },
  {
   "cell_type": "code",
   "execution_count": null,
   "id": "71d130d4-1b4a-4f86-baa9-082faf232b29",
   "metadata": {},
   "outputs": [],
   "source": [
    "#Exercise to find percentage of people knowing python from each country\n",
    "\n",
    "tc = df['Country'].value_counts()\n",
    "cg = country_grp['LanguageWorkedWith'].apply(lambda x: x.str.contains('Python').sum())\n",
    "py_df = pd.concat([tc, cg], axis='columns', sort=False)\n",
    "py_df"
   ]
  },
  {
   "cell_type": "code",
   "execution_count": null,
   "id": "29cc0c05-599d-4435-ab65-55e1cac38f65",
   "metadata": {},
   "outputs": [],
   "source": [
    "py_df['Percent'] = (py_df['LanguageWorkedWith']/py_df['count'])*100\n",
    "py_df"
   ]
  },
  {
   "cell_type": "code",
   "execution_count": null,
   "id": "3428ad26-b44d-4ce0-bf73-be163c3b08b2",
   "metadata": {},
   "outputs": [],
   "source": [
    "py_df.sort_values(by='Percent', ascending=False, inplace=True)\n",
    "py_df"
   ]
  },
  {
   "cell_type": "code",
   "execution_count": null,
   "id": "79a090b7-d249-49ed-9b40-16846af8fdf1",
   "metadata": {},
   "outputs": [],
   "source": [
    "#To find mean of how many years a person worked as a coder\n",
    "\n",
    "#First we will note all the unique values in the column for proper casting of data\n",
    "\n",
    "df['YearsCode'].unique()"
   ]
  },
  {
   "cell_type": "code",
   "execution_count": null,
   "id": "e74b16ea-a325-4ce9-8408-bbcaa21bc4c7",
   "metadata": {},
   "outputs": [],
   "source": [
    "df['YearsCode'] = df['YearsCode'].replace('Less than 1 year', 0)\n",
    "df['YearsCode'] = df['YearsCode'].replace('More than 50 years', 51)"
   ]
  },
  {
   "cell_type": "code",
   "execution_count": null,
   "id": "5a74bb30-7e44-4dd8-b9df-4929edb2535d",
   "metadata": {},
   "outputs": [],
   "source": [
    "#Now we can covert the data type to float\n",
    "\n",
    "df['YearsCode'] = df['YearsCode'].astype(float)\n",
    "\n",
    "# Now we can perform aggrecate methods on the column\n",
    "\n",
    "df['YearsCode'].mean()"
   ]
  },
  {
   "cell_type": "code",
   "execution_count": null,
   "id": "fea7b3c6-695a-47b9-be4b-eb88aca6a130",
   "metadata": {},
   "outputs": [],
   "source": []
  }
 ],
 "metadata": {
  "kernelspec": {
   "display_name": "Python 3 (ipykernel)",
   "language": "python",
   "name": "python3"
  },
  "language_info": {
   "codemirror_mode": {
    "name": "ipython",
    "version": 3
   },
   "file_extension": ".py",
   "mimetype": "text/x-python",
   "name": "python",
   "nbconvert_exporter": "python",
   "pygments_lexer": "ipython3",
   "version": "3.11.5"
  }
 },
 "nbformat": 4,
 "nbformat_minor": 5
}
